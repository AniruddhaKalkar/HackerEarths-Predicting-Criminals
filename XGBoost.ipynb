{
 "cells": [
  {
   "cell_type": "code",
   "execution_count": 8,
   "metadata": {
    "collapsed": true
   },
   "outputs": [],
   "source": [
    "from sklearn import preprocessing\n",
    "import numpy as np\n",
    "import pandas as pd\n",
    "from sklearn.ensemble import RandomForestClassifier\n",
    "from xgboost import XGBClassifier\n",
    "from sklearn.model_selection import train_test_split"
   ]
  },
  {
   "cell_type": "markdown",
   "metadata": {},
   "source": [
    "# Preprocessing"
   ]
  },
  {
   "cell_type": "code",
   "execution_count": 30,
   "metadata": {},
   "outputs": [
    {
     "name": "stdout",
     "output_type": "stream",
     "text": [
      "45718 11430 57148 57148\n"
     ]
    }
   ],
   "source": [
    "train_data=pd.read_csv('D:\\\\Predicting Criminals\\criminal_train.csv')\n",
    "y=train_data['Criminal']\n",
    "train_data=train_data.drop(['Criminal','PERID'],axis=1)\n",
    "test_data=pd.read_csv('D:\\\\Predicting Criminals\\criminal_test.csv')\n",
    "ids=np.array(test_data['PERID'])\n",
    "test_data=test_data.drop(['PERID'],axis=1)\n",
    "data=pd.concat([train_data,test_data])\n",
    "data=preprocessing.scale(data)\n",
    "print(len(train_data),len(test_data),len(train_data)+len(test_data),len(data))"
   ]
  },
  {
   "cell_type": "code",
   "execution_count": 31,
   "metadata": {
    "collapsed": true
   },
   "outputs": [],
   "source": [
    "X=data[:len(train_data)]\n",
    "X_test=data[-len(test_data):]\n",
    "X_train,X_cross,y_train,y_cross=train_test_split(X,y)"
   ]
  },
  {
   "cell_type": "markdown",
   "metadata": {},
   "source": [
    "# Training"
   ]
  },
  {
   "cell_type": "code",
   "execution_count": 25,
   "metadata": {
    "collapsed": true
   },
   "outputs": [],
   "source": [
    "rforest=RandomForestClassifier(n_estimators=400)\n",
    "xgb=XGBClassifier()"
   ]
  },
  {
   "cell_type": "code",
   "execution_count": 26,
   "metadata": {},
   "outputs": [
    {
     "name": "stdout",
     "output_type": "stream",
     "text": [
      "0.954680664917\n"
     ]
    }
   ],
   "source": [
    "xgb.fit(X_train,y_train)\n",
    "acc=xgb.score(X_cross,y_cross)\n",
    "print(acc)"
   ]
  },
  {
   "cell_type": "markdown",
   "metadata": {},
   "source": [
    "# Create Submission File"
   ]
  },
  {
   "cell_type": "code",
   "execution_count": 34,
   "metadata": {
    "collapsed": true
   },
   "outputs": [],
   "source": [
    "pred=xgb.predict(X_test)\n",
    "with open('submission_xgboost.csv', 'w') as f:\n",
    "    f.write('PERID,Criminal\\n')\n",
    "    for i in range(len(X_test)):\n",
    "#         lbl = np.argmax(pred[i,:])\n",
    "        f.write('{},{}\\n'.format(ids[i],pred[i]))"
   ]
  }
 ],
 "metadata": {
  "kernelspec": {
   "display_name": "Python 3",
   "language": "python",
   "name": "python3"
  },
  "language_info": {
   "codemirror_mode": {
    "name": "ipython",
    "version": 3
   },
   "file_extension": ".py",
   "mimetype": "text/x-python",
   "name": "python",
   "nbconvert_exporter": "python",
   "pygments_lexer": "ipython3",
   "version": "3.5.2"
  }
 },
 "nbformat": 4,
 "nbformat_minor": 2
}
